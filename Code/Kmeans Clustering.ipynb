{
 "cells": [
  {
   "cell_type": "code",
   "execution_count": 1,
   "metadata": {},
   "outputs": [],
   "source": [
    "# Import necessary libraries\n",
    "import numpy as np\n",
    "import matplotlib.pyplot as plt\n",
    "from scipy.stats import multivariate_normal\n",
    "import csv\n",
    "from matplotlib.patches import Ellipse\n",
    "import pandas as pd\n",
    "from numpy import cov\n",
    "import matplotlib.patches as mpatches\n",
    "import matplotlib.colors as pltc\n",
    "from numpy.linalg import eig"
   ]
  },
  {
   "cell_type": "code",
   "execution_count": 2,
   "metadata": {},
   "outputs": [],
   "source": [
    "# Read input data\n",
    "inputData = pd.read_csv(\"Dataset 1.txt\", sep='\\t', lineterminator='\\n', header=None)"
   ]
  },
  {
   "cell_type": "code",
   "execution_count": 3,
   "metadata": {},
   "outputs": [],
   "source": [
    "# Divide data and ground truth clusters\n",
    "data = np.array(inputData[inputData.columns[2:]])\n",
    "groundTruthClusters = np.array(inputData[inputData.columns[1:2]])"
   ]
  },
  {
   "cell_type": "code",
   "execution_count": 4,
   "metadata": {},
   "outputs": [],
   "source": [
    "numberOfClusters = 5"
   ]
  },
  {
   "cell_type": "code",
   "execution_count": 5,
   "metadata": {},
   "outputs": [],
   "source": [
    "def kmeansConverge(data,numberOfClusters):\n",
    "    # Initialize random cluster centroids\n",
    "    pts = np.array(data)\n",
    "    centroids = pts[np.random.choice(pts.shape[0], numberOfClusters, replace=False), :]\n",
    "    \n",
    "    # Loop until the values of the previous iteration doesn't match values of current iteration\n",
    "    while(True):\n",
    "        # Compute distance \n",
    "        distance = np.linalg.norm(centroids - pts[:,None], axis=-1)\n",
    "        \n",
    "        # Classify points closest to the centroid\n",
    "        clusterList = np.argmin(distance,axis=1)\n",
    "        \n",
    "        # Compute next centroids \n",
    "        nextCentroids = np.zeros((numberOfClusters,len(pts[0])))\n",
    "        for i in range(numberOfClusters):\n",
    "            nextCentroids[i] = np.mean(pts[clusterList.ravel()==i],axis=0)\n",
    "        \n",
    "        # Convergence step \n",
    "        # If updated centers are equal to previous centers, return \n",
    "        if(np.array_equal(centroids,nextCentroids)):\n",
    "             return clusterList,nextCentroids\n",
    "        else:\n",
    "            centroids = nextCentroids\n",
    "            \n",
    "    return clusterList,centroids"
   ]
  },
  {
   "cell_type": "code",
   "execution_count": 6,
   "metadata": {},
   "outputs": [],
   "source": [
    "# Call the kmeans function and compute the clusters\n",
    "clusterList, centroids = kmeansConverge(data,numberOfClusters)"
   ]
  },
  {
   "cell_type": "code",
   "execution_count": 7,
   "metadata": {},
   "outputs": [],
   "source": [
    "# Scale the data\n",
    "scaledData=(data - data.mean(0))\n",
    "# Compute co-varaince matric\n",
    "covarianceMatrix = cov(scaledData.T)\n",
    "# Perform Eigen Decomposition\n",
    "eigenValues, eigenVectors = eig(covarianceMatrix)\n",
    "# Compute dot product\n",
    "eigenVectorProduct = eigenVectors.T.dot(scaledData.T).T"
   ]
  },
  {
   "cell_type": "code",
   "execution_count": 8,
   "metadata": {},
   "outputs": [],
   "source": [
    "def plotGraph(eigenVectorProduct,clusterList,centroids):\n",
    "    fig = plt.figure(figsize=(8,6))\n",
    "    ax = plt.subplot(111)\n",
    "    ax.spines['right'].set_visible(False)\n",
    "    ax.spines['top'].set_visible(False)\n",
    "    ax.yaxis.set_ticks_position('left')\n",
    "    ax.xaxis.set_ticks_position('bottom')\n",
    "    \n",
    "    colors=['red','green','blue','purple','black','orange','pink','magenta','brown','yellow']\n",
    "    setOfLabels = [l[0] for l in groundTruthClusters]\n",
    "    for i in range(len(centroids)):\n",
    "        x,y = eigenVectorProduct[clusterList.ravel()==i][:, 0].flatten(), eigenVectorProduct[clusterList.ravel()==i][:, 1].flatten()\n",
    "        plt.scatter(x,y, marker= 'o' ,c=colors[i])\n",
    "    \n",
    "    labelList = []\n",
    "    for i in list(set(clusterList)):\n",
    "            labelList.append(mpatches.Patch(color = colors[i],label = str(i)))\n",
    "    plt.legend(handles=labelList)\n",
    "    plt.title(\"Dataset 1\")\n",
    "    plt.xlabel(\"PC 1\")\n",
    "    plt.ylabel(\"PC 2\")\n",
    "    plt.show()"
   ]
  },
  {
   "cell_type": "code",
   "execution_count": 9,
   "metadata": {},
   "outputs": [
    {
     "data": {
      "image/png": "[encoded data removed]",
      "text/plain": [
       "<Figure size 576x432 with 1 Axes>"
      ]
     },
     "metadata": {
      "needs_background": "light"
     },
     "output_type": "display_data"
    }
   ],
   "source": [
    "plotGraph(eigenVectorProduct,clusterList,centroids)"
   ]
  },
  {
   "cell_type": "code",
   "execution_count": 10,
   "metadata": {},
   "outputs": [],
   "source": [
    "#######################################################################\n",
    "# Function to compute Jaccard coefficient and Rand index\n",
    "#######################################################################\n",
    "def metric(data,groundTruthClusters,output):\n",
    "    m11=0\n",
    "    m10=0\n",
    "    m01=0\n",
    "    m00=0\n",
    "    \n",
    "    for i in range(0,len(data)):\n",
    "        for j in range(1,len(data)):\n",
    "            if((groundTruthClusters)[i] == (groundTruthClusters)[j] and output[i] == output[j]):\n",
    "                m11=m11+1\n",
    "            elif((groundTruthClusters)[i] == (groundTruthClusters)[j] and not (output[i] == output[j])):\n",
    "                m10=m10+1\n",
    "            elif(not((groundTruthClusters)[i] == (groundTruthClusters)[j]) and output[i] == output[j]):\n",
    "                m01=m01+1\n",
    "            elif(not((groundTruthClusters)[i] == (groundTruthClusters)[j]) and not(output[i] == output[j])):\n",
    "                m00=m00+1\n",
    "\n",
    "    jacard_coeff=float(m11)/float((m11+m01+m10))\n",
    "    print(\"Jaccard Coefficient: \", jacard_coeff)\n",
    "    rand_index=float((m11+m00))/float((m11+m00+m10+m01))\n",
    "    print(\"Rand Index: \", rand_index)\n"
   ]
  },
  {
   "cell_type": "code",
   "execution_count": 11,
   "metadata": {},
   "outputs": [
    {
     "name": "stdout",
     "output_type": "stream",
     "text": [
      "Jaccard Coefficient:  0.39246426850810984\n",
      "Rand Index:  0.7963461409057264\n"
     ]
    }
   ],
   "source": [
    "# Compute Jaccard coefficient and Rand index\n",
    "metric(data,groundTruthClusters,np.asarray(clusterList))"
   ]
  }
 ],
 "metadata": {
  "kernelspec": {
   "display_name": "Python 3",
   "language": "python",
   "name": "python3"
  },
  "language_info": {
   "codemirror_mode": {
    "name": "ipython",
    "version": 3
   },
   "file_extension": ".py",
   "mimetype": "text/x-python",
   "name": "python",
   "nbconvert_exporter": "python",
   "pygments_lexer": "ipython3",
   "version": "3.7.3"
  }
 },
 "nbformat": 4,
 "nbformat_minor": 2
}
